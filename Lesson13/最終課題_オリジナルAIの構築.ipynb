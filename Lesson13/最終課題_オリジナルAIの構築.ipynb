{
 "cells": [
  {
   "cell_type": "code",
   "execution_count": 47,
   "id": "c63d7637",
   "metadata": {},
   "outputs": [],
   "source": [
    "# 必要なライブラリのimport\n",
    "import numpy as np\n",
    "import matplotlib.pyplot as plt\n",
    "import pandas as pd\n",
    "\n",
    "# TensorFlow\n",
    "import tensorflow as tf\n",
    "\n",
    "# データの分割\n",
    "from sklearn.model_selection import train_test_split\n",
    "\n",
    "# DataFrameですべての列を表示する設定\n",
    "pd.options.display.max_columns = None"
   ]
  },
  {
   "cell_type": "code",
   "execution_count": null,
   "id": "da811a7d",
   "metadata": {},
   "outputs": [],
   "source": [
    "# TesorFlowのcifar10のdatasetを使用する（後ほど猫、犬の画像のみにする）\n",
    "(X_train, Y_train), (X_test, Y_test) = tf.keras.datasets.cifar10.load_data()"
   ]
  },
  {
   "cell_type": "code",
   "execution_count": 49,
   "id": "7ba547c9",
   "metadata": {},
   "outputs": [
    {
     "name": "stdout",
     "output_type": "stream",
     "text": [
      "X_train= (50000, 32, 32, 3)\n",
      "Y_train= (50000, 1)\n",
      "X_test= (10000, 32, 32, 3)\n",
      "Y_test= (10000, 1)\n"
     ]
    }
   ],
   "source": [
    "# X_train, Y_train, X_test, Y_testの形状を確認\n",
    "print(\"X_train=\", X_train.shape)\n",
    "print(\"Y_train=\", Y_train.shape)\n",
    "print(\"X_test=\", X_test.shape)\n",
    "print(\"Y_test=\", Y_test.shape)"
   ]
  },
  {
   "cell_type": "code",
   "execution_count": 50,
   "id": "3622bfe1",
   "metadata": {},
   "outputs": [],
   "source": [
    "# 余計な次元を削除\n",
    "Y_train = Y_train.squeeze()\n",
    "Y_test = Y_test.squeeze()"
   ]
  },
  {
   "cell_type": "code",
   "execution_count": 51,
   "id": "7023ba94",
   "metadata": {},
   "outputs": [
    {
     "name": "stdout",
     "output_type": "stream",
     "text": [
      "X_train= (50000, 32, 32, 3)\n",
      "Y_train= (50000,)\n",
      "X_test= (10000, 32, 32, 3)\n",
      "Y_test= (10000,)\n"
     ]
    }
   ],
   "source": [
    "# X_train, Y_train, X_test, Y_testの形状を再び確認\n",
    "print(\"X_train=\", X_train.shape)\n",
    "print(\"Y_train=\", Y_train.shape)\n",
    "print(\"X_test=\", X_test.shape)\n",
    "print(\"Y_test=\", Y_test.shape)"
   ]
  },
  {
   "cell_type": "code",
   "execution_count": 97,
   "id": "dcba88ca",
   "metadata": {},
   "outputs": [],
   "source": [
    "# 猫と犬のラベル\n",
    "cat_label = 3\n",
    "dog_label = 5\n",
    "\n",
    "train_cat_dog_indices = np.where((Y_train == cat_label) | (Y_train == dog_label))[0]\n",
    "X_train_cat_dog = X_train[train_cat_dog_indices]\n",
    "Y_train_cat_dog = Y_train[train_cat_dog_indices]\n",
    "\n",
    "test_cat_dog_indices = np.where((Y_test == cat_label) | (Y_test == dog_label))[0]\n",
    "X_test_cat_dog = X_test[test_cat_dog_indices]\n",
    "Y_test_cat_dog = Y_test[test_cat_dog_indices]\n",
    "\n",
    "# ラベルを0(猫)、1(犬)に変更\n",
    "Y_train_cat_dog = (Y_train_cat_dog == dog_label).astype(int)\n",
    "Y_test_cat_dog = (Y_test_cat_dog == dog_label).astype(int)"
   ]
  },
  {
   "cell_type": "code",
   "execution_count": 98,
   "id": "42339661",
   "metadata": {},
   "outputs": [
    {
     "name": "stdout",
     "output_type": "stream",
     "text": [
      "[[[125 125 116]\n",
      "  [110 101  91]\n",
      "  [102  90  83]\n",
      "  ...\n",
      "  [202 207 214]\n",
      "  [200 205 212]\n",
      "  [202 208 214]]\n",
      "\n",
      " [[142 146 142]\n",
      "  [146 144 139]\n",
      "  [176 172 170]\n",
      "  ...\n",
      "  [195 201 205]\n",
      "  [198 205 209]\n",
      "  [204 211 215]]\n",
      "\n",
      " [[180 185 183]\n",
      "  [143 146 146]\n",
      "  [156 157 157]\n",
      "  ...\n",
      "  [122 111 113]\n",
      "  [139 128 131]\n",
      "  [158 147 150]]\n",
      "\n",
      " ...\n",
      "\n",
      " [[104  82  41]\n",
      "  [101  80  39]\n",
      "  [101  81  38]\n",
      "  ...\n",
      "  [126 103  67]\n",
      "  [126 103  69]\n",
      "  [125 101  68]]\n",
      "\n",
      " [[104  81  40]\n",
      "  [105  84  41]\n",
      "  [109  88  43]\n",
      "  ...\n",
      "  [138 113  78]\n",
      "  [137 113  80]\n",
      "  [137 112  81]]\n",
      "\n",
      " [[105  83  42]\n",
      "  [108  87  45]\n",
      "  [115  94  50]\n",
      "  ...\n",
      "  [143 117  82]\n",
      "  [143 116  84]\n",
      "  [144 116  86]]]\n",
      "0\n"
     ]
    }
   ],
   "source": [
    "# 先頭1行を表示\n",
    "print(X_train_cat_dog[0])\n",
    "print(Y_train_cat_dog[0])"
   ]
  },
  {
   "cell_type": "code",
   "execution_count": 99,
   "id": "84bf648c",
   "metadata": {},
   "outputs": [],
   "source": [
    "# train_test_splitを使い、学習データと検証データに7:3（検証データが3割）で分割する\n",
    "X_train2, X_valid2, Y_train2, Y_valid2 = train_test_split(X_train_cat_dog, Y_train_cat_dog, test_size=0.3, random_state=0)\n",
    "\n",
    "X_test2 = X_test_cat_dog\n",
    "Y_test2 = Y_test_cat_dog"
   ]
  },
  {
   "cell_type": "code",
   "execution_count": 100,
   "id": "76ed78ed",
   "metadata": {},
   "outputs": [
    {
     "name": "stdout",
     "output_type": "stream",
     "text": [
      "X_train2= (7000, 32, 32, 3)\n",
      "Y_train2= (7000,)\n",
      "X_valid2= (3000, 32, 32, 3)\n",
      "Y_valid2= (3000,)\n",
      "X_test2= (2000, 32, 32, 3)\n",
      "Y_test2= (2000,)\n"
     ]
    }
   ],
   "source": [
    "# X_train2, Y_train2, X_valid2, Y_valid2, X_test2, Y_test2の形状を確認\n",
    "print(\"X_train2=\", X_train2.shape)\n",
    "print(\"Y_train2=\", Y_train2.shape)\n",
    "print(\"X_valid2=\", X_valid2.shape)\n",
    "print(\"Y_valid2=\", Y_valid2.shape)\n",
    "print(\"X_test2=\", X_test2.shape)\n",
    "print(\"Y_test2=\", Y_test2.shape)"
   ]
  },
  {
   "cell_type": "code",
   "execution_count": 118,
   "id": "090813aa",
   "metadata": {},
   "outputs": [],
   "source": [
    "# モデルの初期化\n",
    "model = tf.keras.Sequential([\n",
    "    # 入力層\n",
    "    tf.keras.Input(shape=(32, 32, 3)),\n",
    "\n",
    "    # 畳み込みブロック\n",
    "    tf.keras.layers.Conv2D(32, kernel_size=3, padding=\"same\", strides=1, activation=\"relu\"),\n",
    "    tf.keras.layers.MaxPooling2D(pool_size=(2, 2)),\n",
    "    tf.keras.layers.Dropout(0.2),\n",
    "\n",
    "    # 全結合層\n",
    "    tf.keras.layers.Flatten(),\n",
    "    tf.keras.layers.Dense(512, activation='relu'),\n",
    "    tf.keras.layers.Dropout(0.2),\n",
    "\n",
    "    # 出力層\n",
    "    tf.keras.layers.Dense(1, activation='sigmoid')\n",
    "])\n",
    "\n",
    "# モデルの構築\n",
    "model.compile(optimizer = \"rmsprop\", loss='binary_crossentropy', metrics=['accuracy'])"
   ]
  },
  {
   "cell_type": "code",
   "execution_count": 120,
   "id": "8973b968",
   "metadata": {},
   "outputs": [
    {
     "data": {
      "text/html": [
       "<pre style=\"white-space:pre;overflow-x:auto;line-height:normal;font-family:Menlo,'DejaVu Sans Mono',consolas,'Courier New',monospace\"><span style=\"font-weight: bold\">Model: \"sequential_11\"</span>\n",
       "</pre>\n"
      ],
      "text/plain": [
       "\u001b[1mModel: \"sequential_11\"\u001b[0m\n"
      ]
     },
     "metadata": {},
     "output_type": "display_data"
    },
    {
     "data": {
      "text/html": [
       "<pre style=\"white-space:pre;overflow-x:auto;line-height:normal;font-family:Menlo,'DejaVu Sans Mono',consolas,'Courier New',monospace\">┏━━━━━━━━━━━━━━━━━━━━━━━━━━━━━━━━━┳━━━━━━━━━━━━━━━━━━━━━━━━┳━━━━━━━━━━━━━━━┓\n",
       "┃<span style=\"font-weight: bold\"> Layer (type)                    </span>┃<span style=\"font-weight: bold\"> Output Shape           </span>┃<span style=\"font-weight: bold\">       Param # </span>┃\n",
       "┡━━━━━━━━━━━━━━━━━━━━━━━━━━━━━━━━━╇━━━━━━━━━━━━━━━━━━━━━━━━╇━━━━━━━━━━━━━━━┩\n",
       "│ conv2d_11 (<span style=\"color: #0087ff; text-decoration-color: #0087ff\">Conv2D</span>)              │ (<span style=\"color: #00d7ff; text-decoration-color: #00d7ff\">None</span>, <span style=\"color: #00af00; text-decoration-color: #00af00\">32</span>, <span style=\"color: #00af00; text-decoration-color: #00af00\">32</span>, <span style=\"color: #00af00; text-decoration-color: #00af00\">32</span>)     │           <span style=\"color: #00af00; text-decoration-color: #00af00\">896</span> │\n",
       "├─────────────────────────────────┼────────────────────────┼───────────────┤\n",
       "│ max_pooling2d_10 (<span style=\"color: #0087ff; text-decoration-color: #0087ff\">MaxPooling2D</span>) │ (<span style=\"color: #00d7ff; text-decoration-color: #00d7ff\">None</span>, <span style=\"color: #00af00; text-decoration-color: #00af00\">16</span>, <span style=\"color: #00af00; text-decoration-color: #00af00\">16</span>, <span style=\"color: #00af00; text-decoration-color: #00af00\">32</span>)     │             <span style=\"color: #00af00; text-decoration-color: #00af00\">0</span> │\n",
       "├─────────────────────────────────┼────────────────────────┼───────────────┤\n",
       "│ dropout_20 (<span style=\"color: #0087ff; text-decoration-color: #0087ff\">Dropout</span>)            │ (<span style=\"color: #00d7ff; text-decoration-color: #00d7ff\">None</span>, <span style=\"color: #00af00; text-decoration-color: #00af00\">16</span>, <span style=\"color: #00af00; text-decoration-color: #00af00\">16</span>, <span style=\"color: #00af00; text-decoration-color: #00af00\">32</span>)     │             <span style=\"color: #00af00; text-decoration-color: #00af00\">0</span> │\n",
       "├─────────────────────────────────┼────────────────────────┼───────────────┤\n",
       "│ flatten_11 (<span style=\"color: #0087ff; text-decoration-color: #0087ff\">Flatten</span>)            │ (<span style=\"color: #00d7ff; text-decoration-color: #00d7ff\">None</span>, <span style=\"color: #00af00; text-decoration-color: #00af00\">8192</span>)           │             <span style=\"color: #00af00; text-decoration-color: #00af00\">0</span> │\n",
       "├─────────────────────────────────┼────────────────────────┼───────────────┤\n",
       "│ dense_22 (<span style=\"color: #0087ff; text-decoration-color: #0087ff\">Dense</span>)                │ (<span style=\"color: #00d7ff; text-decoration-color: #00d7ff\">None</span>, <span style=\"color: #00af00; text-decoration-color: #00af00\">512</span>)            │     <span style=\"color: #00af00; text-decoration-color: #00af00\">4,194,816</span> │\n",
       "├─────────────────────────────────┼────────────────────────┼───────────────┤\n",
       "│ dropout_21 (<span style=\"color: #0087ff; text-decoration-color: #0087ff\">Dropout</span>)            │ (<span style=\"color: #00d7ff; text-decoration-color: #00d7ff\">None</span>, <span style=\"color: #00af00; text-decoration-color: #00af00\">512</span>)            │             <span style=\"color: #00af00; text-decoration-color: #00af00\">0</span> │\n",
       "├─────────────────────────────────┼────────────────────────┼───────────────┤\n",
       "│ dense_23 (<span style=\"color: #0087ff; text-decoration-color: #0087ff\">Dense</span>)                │ (<span style=\"color: #00d7ff; text-decoration-color: #00d7ff\">None</span>, <span style=\"color: #00af00; text-decoration-color: #00af00\">1</span>)              │           <span style=\"color: #00af00; text-decoration-color: #00af00\">513</span> │\n",
       "└─────────────────────────────────┴────────────────────────┴───────────────┘\n",
       "</pre>\n"
      ],
      "text/plain": [
       "┏━━━━━━━━━━━━━━━━━━━━━━━━━━━━━━━━━┳━━━━━━━━━━━━━━━━━━━━━━━━┳━━━━━━━━━━━━━━━┓\n",
       "┃\u001b[1m \u001b[0m\u001b[1mLayer (type)                   \u001b[0m\u001b[1m \u001b[0m┃\u001b[1m \u001b[0m\u001b[1mOutput Shape          \u001b[0m\u001b[1m \u001b[0m┃\u001b[1m \u001b[0m\u001b[1m      Param #\u001b[0m\u001b[1m \u001b[0m┃\n",
       "┡━━━━━━━━━━━━━━━━━━━━━━━━━━━━━━━━━╇━━━━━━━━━━━━━━━━━━━━━━━━╇━━━━━━━━━━━━━━━┩\n",
       "│ conv2d_11 (\u001b[38;5;33mConv2D\u001b[0m)              │ (\u001b[38;5;45mNone\u001b[0m, \u001b[38;5;34m32\u001b[0m, \u001b[38;5;34m32\u001b[0m, \u001b[38;5;34m32\u001b[0m)     │           \u001b[38;5;34m896\u001b[0m │\n",
       "├─────────────────────────────────┼────────────────────────┼───────────────┤\n",
       "│ max_pooling2d_10 (\u001b[38;5;33mMaxPooling2D\u001b[0m) │ (\u001b[38;5;45mNone\u001b[0m, \u001b[38;5;34m16\u001b[0m, \u001b[38;5;34m16\u001b[0m, \u001b[38;5;34m32\u001b[0m)     │             \u001b[38;5;34m0\u001b[0m │\n",
       "├─────────────────────────────────┼────────────────────────┼───────────────┤\n",
       "│ dropout_20 (\u001b[38;5;33mDropout\u001b[0m)            │ (\u001b[38;5;45mNone\u001b[0m, \u001b[38;5;34m16\u001b[0m, \u001b[38;5;34m16\u001b[0m, \u001b[38;5;34m32\u001b[0m)     │             \u001b[38;5;34m0\u001b[0m │\n",
       "├─────────────────────────────────┼────────────────────────┼───────────────┤\n",
       "│ flatten_11 (\u001b[38;5;33mFlatten\u001b[0m)            │ (\u001b[38;5;45mNone\u001b[0m, \u001b[38;5;34m8192\u001b[0m)           │             \u001b[38;5;34m0\u001b[0m │\n",
       "├─────────────────────────────────┼────────────────────────┼───────────────┤\n",
       "│ dense_22 (\u001b[38;5;33mDense\u001b[0m)                │ (\u001b[38;5;45mNone\u001b[0m, \u001b[38;5;34m512\u001b[0m)            │     \u001b[38;5;34m4,194,816\u001b[0m │\n",
       "├─────────────────────────────────┼────────────────────────┼───────────────┤\n",
       "│ dropout_21 (\u001b[38;5;33mDropout\u001b[0m)            │ (\u001b[38;5;45mNone\u001b[0m, \u001b[38;5;34m512\u001b[0m)            │             \u001b[38;5;34m0\u001b[0m │\n",
       "├─────────────────────────────────┼────────────────────────┼───────────────┤\n",
       "│ dense_23 (\u001b[38;5;33mDense\u001b[0m)                │ (\u001b[38;5;45mNone\u001b[0m, \u001b[38;5;34m1\u001b[0m)              │           \u001b[38;5;34m513\u001b[0m │\n",
       "└─────────────────────────────────┴────────────────────────┴───────────────┘\n"
      ]
     },
     "metadata": {},
     "output_type": "display_data"
    },
    {
     "data": {
      "text/html": [
       "<pre style=\"white-space:pre;overflow-x:auto;line-height:normal;font-family:Menlo,'DejaVu Sans Mono',consolas,'Courier New',monospace\"><span style=\"font-weight: bold\"> Total params: </span><span style=\"color: #00af00; text-decoration-color: #00af00\">4,196,225</span> (16.01 MB)\n",
       "</pre>\n"
      ],
      "text/plain": [
       "\u001b[1m Total params: \u001b[0m\u001b[38;5;34m4,196,225\u001b[0m (16.01 MB)\n"
      ]
     },
     "metadata": {},
     "output_type": "display_data"
    },
    {
     "data": {
      "text/html": [
       "<pre style=\"white-space:pre;overflow-x:auto;line-height:normal;font-family:Menlo,'DejaVu Sans Mono',consolas,'Courier New',monospace\"><span style=\"font-weight: bold\"> Trainable params: </span><span style=\"color: #00af00; text-decoration-color: #00af00\">4,196,225</span> (16.01 MB)\n",
       "</pre>\n"
      ],
      "text/plain": [
       "\u001b[1m Trainable params: \u001b[0m\u001b[38;5;34m4,196,225\u001b[0m (16.01 MB)\n"
      ]
     },
     "metadata": {},
     "output_type": "display_data"
    },
    {
     "data": {
      "text/html": [
       "<pre style=\"white-space:pre;overflow-x:auto;line-height:normal;font-family:Menlo,'DejaVu Sans Mono',consolas,'Courier New',monospace\"><span style=\"font-weight: bold\"> Non-trainable params: </span><span style=\"color: #00af00; text-decoration-color: #00af00\">0</span> (0.00 B)\n",
       "</pre>\n"
      ],
      "text/plain": [
       "\u001b[1m Non-trainable params: \u001b[0m\u001b[38;5;34m0\u001b[0m (0.00 B)\n"
      ]
     },
     "metadata": {},
     "output_type": "display_data"
    }
   ],
   "source": [
    "# モデルの構造を表示\n",
    "model.summary()"
   ]
  },
  {
   "cell_type": "code",
   "execution_count": 121,
   "id": "d45187e0",
   "metadata": {},
   "outputs": [
    {
     "name": "stdout",
     "output_type": "stream",
     "text": [
      "Epoch 1/50\n",
      "\u001b[1m110/110\u001b[0m \u001b[32m━━━━━━━━━━━━━━━━━━━━\u001b[0m\u001b[37m\u001b[0m \u001b[1m2s\u001b[0m 14ms/step - accuracy: 0.5091 - loss: 57.6438 - val_accuracy: 0.5010 - val_loss: 0.6882\n",
      "Epoch 2/50\n",
      "\u001b[1m110/110\u001b[0m \u001b[32m━━━━━━━━━━━━━━━━━━━━\u001b[0m\u001b[37m\u001b[0m \u001b[1m1s\u001b[0m 13ms/step - accuracy: 0.5183 - loss: 1.1063 - val_accuracy: 0.6053 - val_loss: 0.6595\n",
      "Epoch 3/50\n",
      "\u001b[1m110/110\u001b[0m \u001b[32m━━━━━━━━━━━━━━━━━━━━\u001b[0m\u001b[37m\u001b[0m \u001b[1m1s\u001b[0m 13ms/step - accuracy: 0.6049 - loss: 0.6905 - val_accuracy: 0.5860 - val_loss: 0.7003\n",
      "Epoch 4/50\n",
      "\u001b[1m110/110\u001b[0m \u001b[32m━━━━━━━━━━━━━━━━━━━━\u001b[0m\u001b[37m\u001b[0m \u001b[1m1s\u001b[0m 13ms/step - accuracy: 0.6687 - loss: 0.6351 - val_accuracy: 0.5750 - val_loss: 0.7279\n",
      "Epoch 5/50\n",
      "\u001b[1m110/110\u001b[0m \u001b[32m━━━━━━━━━━━━━━━━━━━━\u001b[0m\u001b[37m\u001b[0m \u001b[1m1s\u001b[0m 13ms/step - accuracy: 0.7366 - loss: 0.5516 - val_accuracy: 0.6537 - val_loss: 0.6565\n",
      "Epoch 6/50\n",
      "\u001b[1m110/110\u001b[0m \u001b[32m━━━━━━━━━━━━━━━━━━━━\u001b[0m\u001b[37m\u001b[0m \u001b[1m1s\u001b[0m 13ms/step - accuracy: 0.7890 - loss: 0.4640 - val_accuracy: 0.6470 - val_loss: 0.8065\n",
      "Epoch 7/50\n",
      "\u001b[1m110/110\u001b[0m \u001b[32m━━━━━━━━━━━━━━━━━━━━\u001b[0m\u001b[37m\u001b[0m \u001b[1m1s\u001b[0m 13ms/step - accuracy: 0.8469 - loss: 0.3689 - val_accuracy: 0.6637 - val_loss: 0.8021\n",
      "Epoch 8/50\n",
      "\u001b[1m110/110\u001b[0m \u001b[32m━━━━━━━━━━━━━━━━━━━━\u001b[0m\u001b[37m\u001b[0m \u001b[1m1s\u001b[0m 13ms/step - accuracy: 0.9013 - loss: 0.2580 - val_accuracy: 0.6540 - val_loss: 1.0604\n",
      "Epoch 9/50\n",
      "\u001b[1m110/110\u001b[0m \u001b[32m━━━━━━━━━━━━━━━━━━━━\u001b[0m\u001b[37m\u001b[0m \u001b[1m1s\u001b[0m 13ms/step - accuracy: 0.9186 - loss: 0.2203 - val_accuracy: 0.6380 - val_loss: 1.3235\n",
      "Epoch 10/50\n",
      "\u001b[1m110/110\u001b[0m \u001b[32m━━━━━━━━━━━━━━━━━━━━\u001b[0m\u001b[37m\u001b[0m \u001b[1m1s\u001b[0m 13ms/step - accuracy: 0.9490 - loss: 0.1518 - val_accuracy: 0.6480 - val_loss: 1.2114\n",
      "Epoch 11/50\n",
      "\u001b[1m110/110\u001b[0m \u001b[32m━━━━━━━━━━━━━━━━━━━━\u001b[0m\u001b[37m\u001b[0m \u001b[1m1s\u001b[0m 14ms/step - accuracy: 0.9476 - loss: 0.1889 - val_accuracy: 0.6580 - val_loss: 1.5825\n",
      "Epoch 12/50\n",
      "\u001b[1m110/110\u001b[0m \u001b[32m━━━━━━━━━━━━━━━━━━━━\u001b[0m\u001b[37m\u001b[0m \u001b[1m1s\u001b[0m 13ms/step - accuracy: 0.9586 - loss: 0.1207 - val_accuracy: 0.6563 - val_loss: 1.3501\n",
      "Epoch 13/50\n",
      "\u001b[1m110/110\u001b[0m \u001b[32m━━━━━━━━━━━━━━━━━━━━\u001b[0m\u001b[37m\u001b[0m \u001b[1m1s\u001b[0m 13ms/step - accuracy: 0.9667 - loss: 0.1026 - val_accuracy: 0.6523 - val_loss: 1.5259\n",
      "Epoch 14/50\n",
      "\u001b[1m110/110\u001b[0m \u001b[32m━━━━━━━━━━━━━━━━━━━━\u001b[0m\u001b[37m\u001b[0m \u001b[1m1s\u001b[0m 13ms/step - accuracy: 0.9696 - loss: 0.0972 - val_accuracy: 0.6583 - val_loss: 1.5782\n",
      "Epoch 15/50\n",
      "\u001b[1m110/110\u001b[0m \u001b[32m━━━━━━━━━━━━━━━━━━━━\u001b[0m\u001b[37m\u001b[0m \u001b[1m1s\u001b[0m 13ms/step - accuracy: 0.9794 - loss: 0.0671 - val_accuracy: 0.6687 - val_loss: 1.8802\n",
      "Epoch 16/50\n",
      "\u001b[1m110/110\u001b[0m \u001b[32m━━━━━━━━━━━━━━━━━━━━\u001b[0m\u001b[37m\u001b[0m \u001b[1m1s\u001b[0m 13ms/step - accuracy: 0.9740 - loss: 0.0843 - val_accuracy: 0.6733 - val_loss: 1.7297\n",
      "Epoch 17/50\n",
      "\u001b[1m110/110\u001b[0m \u001b[32m━━━━━━━━━━━━━━━━━━━━\u001b[0m\u001b[37m\u001b[0m \u001b[1m1s\u001b[0m 13ms/step - accuracy: 0.9819 - loss: 0.0670 - val_accuracy: 0.6673 - val_loss: 1.7743\n",
      "Epoch 18/50\n",
      "\u001b[1m110/110\u001b[0m \u001b[32m━━━━━━━━━━━━━━━━━━━━\u001b[0m\u001b[37m\u001b[0m \u001b[1m1s\u001b[0m 13ms/step - accuracy: 0.9744 - loss: 0.0856 - val_accuracy: 0.6500 - val_loss: 1.8211\n",
      "Epoch 19/50\n",
      "\u001b[1m110/110\u001b[0m \u001b[32m━━━━━━━━━━━━━━━━━━━━\u001b[0m\u001b[37m\u001b[0m \u001b[1m1s\u001b[0m 13ms/step - accuracy: 0.9850 - loss: 0.0550 - val_accuracy: 0.6627 - val_loss: 2.0640\n",
      "Epoch 20/50\n",
      "\u001b[1m110/110\u001b[0m \u001b[32m━━━━━━━━━━━━━━━━━━━━\u001b[0m\u001b[37m\u001b[0m \u001b[1m1s\u001b[0m 13ms/step - accuracy: 0.9860 - loss: 0.0585 - val_accuracy: 0.6487 - val_loss: 2.6631\n",
      "Epoch 21/50\n",
      "\u001b[1m110/110\u001b[0m \u001b[32m━━━━━━━━━━━━━━━━━━━━\u001b[0m\u001b[37m\u001b[0m \u001b[1m1s\u001b[0m 13ms/step - accuracy: 0.9824 - loss: 0.0827 - val_accuracy: 0.6683 - val_loss: 2.1496\n",
      "Epoch 22/50\n",
      "\u001b[1m110/110\u001b[0m \u001b[32m━━━━━━━━━━━━━━━━━━━━\u001b[0m\u001b[37m\u001b[0m \u001b[1m1s\u001b[0m 13ms/step - accuracy: 0.9813 - loss: 0.0632 - val_accuracy: 0.6597 - val_loss: 1.9755\n",
      "Epoch 23/50\n",
      "\u001b[1m110/110\u001b[0m \u001b[32m━━━━━━━━━━━━━━━━━━━━\u001b[0m\u001b[37m\u001b[0m \u001b[1m1s\u001b[0m 13ms/step - accuracy: 0.9856 - loss: 0.0629 - val_accuracy: 0.6637 - val_loss: 2.5039\n",
      "Epoch 24/50\n",
      "\u001b[1m110/110\u001b[0m \u001b[32m━━━━━━━━━━━━━━━━━━━━\u001b[0m\u001b[37m\u001b[0m \u001b[1m1s\u001b[0m 13ms/step - accuracy: 0.9817 - loss: 0.0792 - val_accuracy: 0.6710 - val_loss: 2.2948\n",
      "Epoch 25/50\n",
      "\u001b[1m110/110\u001b[0m \u001b[32m━━━━━━━━━━━━━━━━━━━━\u001b[0m\u001b[37m\u001b[0m \u001b[1m1s\u001b[0m 13ms/step - accuracy: 0.9681 - loss: 0.2603 - val_accuracy: 0.6503 - val_loss: 2.3699\n",
      "Epoch 25: early stopping\n",
      "CPU times: user 2min 44s, sys: 1min 2s, total: 3min 46s\n",
      "Wall time: 36.7 s\n"
     ]
    }
   ],
   "source": [
    "%%time\n",
    "# 学習の実施\n",
    "log = model.fit(X_train2, Y_train2, epochs=50, batch_size=64, verbose=True,\n",
    "                callbacks=[tf.keras.callbacks.EarlyStopping(monitor='val_loss',\n",
    "                                                            min_delta=0, patience=20,\n",
    "                                                            verbose=1)],\n",
    "                validation_data=(X_valid2, Y_valid2))"
   ]
  },
  {
   "cell_type": "code",
   "execution_count": 122,
   "id": "d231a09b",
   "metadata": {},
   "outputs": [
    {
     "data": {
      "text/plain": [
       "Text(0, 0.5, 'crossentropy')"
      ]
     },
     "execution_count": 122,
     "metadata": {},
     "output_type": "execute_result"
    },
    {
     "data": {
      "image/png": "[encoded data removed]",
      "text/plain": [
       "<Figure size 640x480 with 1 Axes>"
      ]
     },
     "metadata": {},
     "output_type": "display_data"
    }
   ],
   "source": [
    "# 学習過程をグラフ表示\n",
    "plt.plot(log.history['loss'], label='loss')\n",
    "plt.plot(log.history['val_loss'], label='val_loss')\n",
    "plt.legend(frameon=False) # 凡例の表示\n",
    "plt.xlabel(\"epochs\")\n",
    "plt.ylabel(\"crossentropy\")"
   ]
  },
  {
   "cell_type": "code",
   "execution_count": null,
   "id": "19cdf94e",
   "metadata": {},
   "outputs": [
    {
     "name": "stdout",
     "output_type": "stream",
     "text": [
      "\u001b[1m63/63\u001b[0m \u001b[32m━━━━━━━━━━━━━━━━━━━━\u001b[0m\u001b[37m\u001b[0m \u001b[1m0s\u001b[0m 3ms/step\n",
      "[0.99999076]\n"
     ]
    }
   ],
   "source": [
    "Y_prob2 = model.predict(X_test2)\n",
    "# 0,1に変換\n",
    "Y_pred2 = (Y_prob2 >= 0.5).astype(int)"
   ]
  },
  {
   "cell_type": "code",
   "execution_count": 135,
   "id": "929de136",
   "metadata": {},
   "outputs": [
    {
     "name": "stdout",
     "output_type": "stream",
     "text": [
      "              precision    recall  f1-score   support\n",
      "\n",
      "           0       0.68      0.58      0.63      1000\n",
      "           1       0.64      0.73      0.68      1000\n",
      "\n",
      "    accuracy                           0.66      2000\n",
      "   macro avg       0.66      0.66      0.65      2000\n",
      "weighted avg       0.66      0.66      0.65      2000\n",
      "\n"
     ]
    }
   ],
   "source": [
    "# classification_reportを使い、モデルの評価を実施\n",
    "from sklearn.metrics import classification_report\n",
    "\n",
    "print(classification_report(Y_test2, Y_pred2))"
   ]
  }
 ],
 "metadata": {
  "kernelspec": {
   "display_name": ".venv",
   "language": "python",
   "name": "python3"
  },
  "language_info": {
   "codemirror_mode": {
    "name": "ipython",
    "version": 3
   },
   "file_extension": ".py",
   "mimetype": "text/x-python",
   "name": "python",
   "nbconvert_exporter": "python",
   "pygments_lexer": "ipython3",
   "version": "3.12.10"
  }
 },
 "nbformat": 4,
 "nbformat_minor": 5
}
